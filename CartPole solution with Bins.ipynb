{
 "cells": [
  {
   "cell_type": "markdown",
   "metadata": {},
   "source": [
    "# CartPole solution with Bins"
   ]
  },
  {
   "cell_type": "markdown",
   "metadata": {},
   "source": [
    "In this solution we are going to solve the cart pole environment by using quanti states, in other words a set of states that or finite. This is known as binning the states. Because the number of actions and states of the cart pole task is relatively small when we focus on only the information that is critical we can use tabular Q learning to solve the environment"
   ]
  },
  {
   "cell_type": "code",
   "execution_count": 20,
   "metadata": {
    "collapsed": true
   },
   "outputs": [],
   "source": [
    "import gym\n",
    "import os\n",
    "import sys\n",
    "import numpy as np\n",
    "import pandas as pd\n",
    "import matplotlib.pyplot as plt\n",
    "from gym import wrappers\n",
    "from datetime import datetime"
   ]
  },
  {
   "cell_type": "markdown",
   "metadata": {},
   "source": [
    "\n",
    "<h2>Implimentation</h2>\n",
    "\n",
    "First we will impliment our accesory methods.\n",
    "\n",
    "build_state:\n",
    "this method converts an array of integers into one unique number. Eg [1,2,3,4] -> 1234. This is achieved by taking the array of integers as a string of integers, then converting then string to its int representation.This allows us to turn our current state into a usable number\n",
    "\n",
    "to_bin:\n",
    "This will take in a value and an array of possible bins. It then decides which bin the value belongs in."
   ]
  },
  {
   "cell_type": "code",
   "execution_count": 21,
   "metadata": {
    "collapsed": true
   },
   "outputs": [],
   "source": [
    "def build_state(features):\n",
    "    return int(\"\".join(map(lambda feature: str(int(feature)), features)))\n",
    "\n",
    "def to_bin(value, bins):\n",
    "    return np.digitize(x=[value], bins=bins)[0]"
   ]
  },
  {
   "cell_type": "markdown",
   "metadata": {
    "collapsed": true
   },
   "source": [
    "<h3>Feature Transformer Class</h3>\n",
    "\n",
    "Next we are going to create a transform class similar to the one in scikit-learn. This will transform 1 observation at a time. "
   ]
  },
  {
   "cell_type": "code",
   "execution_count": 46,
   "metadata": {
    "collapsed": true
   },
   "outputs": [],
   "source": [
    "class FeatureTransformer:\n",
    "  def __init__(self):\n",
    "    # Note: to make this better you could look at how often each bin was\n",
    "    # actually used while running the script.\n",
    "    # It's not clear from the high/low values nor sample() what values\n",
    "    # we really expect to get.\n",
    "    self.cart_position_bins = np.linspace(-2.4, 2.4, 9)\n",
    "    self.cart_velocity_bins = np.linspace(-2, 2, 9) # (-inf, inf) (I did not check that these were good values)\n",
    "    self.pole_angle_bins = np.linspace(-0.4, 0.4, 9)\n",
    "    self.pole_velocity_bins = np.linspace(-3.5, 3.5, 9) # (-inf, inf) (I did not check that these were good values)\n",
    "\n",
    "  def transform(self, observation):\n",
    "    # returns an int\n",
    "    cart_pos, cart_vel, pole_angle, pole_vel = observation\n",
    "    return build_state([\n",
    "      to_bin(cart_pos, self.cart_position_bins),\n",
    "      to_bin(cart_vel, self.cart_velocity_bins),\n",
    "      to_bin(pole_angle, self.pole_angle_bins),\n",
    "      to_bin(pole_vel, self.pole_velocity_bins),\n",
    "    ])\n",
    "\n",
    "    \n",
    "    "
   ]
  },
  {
   "cell_type": "markdown",
   "metadata": {},
   "source": [
    "<h3>Model class</h3>\n",
    "\n",
    "Takes in environment and feature transformer. The models constructor initialises the Q table with a shape of num_states x num_actions, this will be 10^4 as there are 10 bins for each of the 4 states and 2 as there are only 2 possible actions to take.\n",
    "\n",
    "predict:\n",
    "this transforms the state into integer X and we use that to index Q. Predict will return the Q of this particular state over all actions. We will then take the max of this.\n",
    "\n",
    "update:\n",
    "Here we will convert the state into an integer and update the Q table using gradient descent\n",
    "\n",
    "sample_action:\n",
    "Here we impliment epsilon greedy. This involves deciding wether or not to explore new combinations or exploit optimal values we have already learned from so far. This is determined by the probability of epsilon. "
   ]
  },
  {
   "cell_type": "code",
   "execution_count": 47,
   "metadata": {
    "collapsed": true
   },
   "outputs": [],
   "source": [
    "class Model:\n",
    "    def __init__(self, env, feature_transformer):\n",
    "        self.env = env\n",
    "        self.ft = feature_transformer\n",
    "        \n",
    "        num_states = 10**env.observation_space.shape[0]\n",
    "        num_actions = env.action_space.n\n",
    "        \n",
    "        #fills the Q table with random values for the combination of states and actions\n",
    "        self.Q = np.random.uniform(low=-1, high=1, size=(num_states,num_actions))\n",
    "        \n",
    "    def predict(self, s):\n",
    "        x = self.ft.transform(s)\n",
    "        return self.Q[x]\n",
    "    \n",
    "    def update(self, s, a, G):\n",
    "        x = self.ft.transform(s)\n",
    "        self.Q[x,a] += 10e-3*(G - self.Q[x,a])\n",
    "        \n",
    "    def sample_action(self, s, eps):\n",
    "        if np.random.random() < eps:\n",
    "            return self.env.action_space.sample()\n",
    "        else :\n",
    "            p = self.predict(s)\n",
    "            return np.argmax(p)"
   ]
  },
  {
   "cell_type": "markdown",
   "metadata": {},
   "source": [
    "<h3>Play Methods</h3>\n",
    "\n",
    "play_one: First we want to play a single episode of the game. This will take in our model, epsilon value and our gamma value. Gamma (discount rate) is used to calculate how much our model should value future rewards. A model with a low gamma value will prioritise immediate rewards, where as a high gamma value will prioritise the future over the current state. Extremes in either direction are not good and the ideal gamma value for a model can vary. We will loop through 10000 time frames (the CartPole-v1 caps this at 600 but older versions can do 10000) and chose an action from the model. We set the previous observation variable to the current observation and then update our observation, reward, done and info variables from carrying out our action in the environment. We then add the reward of that action to our totals rewards array. Next we are going to apply a large penalty of -300 if the pole falls before 200 time frames. Finally we update our model using the Q learning equation. When the loop is done we return the total reward.\n"
   ]
  },
  {
   "cell_type": "code",
   "execution_count": 48,
   "metadata": {
    "collapsed": true
   },
   "outputs": [],
   "source": [
    "def play_one(model, eps, gamma):\n",
    "    observation = env.reset()\n",
    "    done = False\n",
    "    total_rewards = 0\n",
    "    iterations = 0\n",
    "    cap = 10000\n",
    "    \n",
    "    while not done and iterations < cap:\n",
    "        action = model.sample_action(observation, eps)\n",
    "        prev_observation = observation\n",
    "        observation, reward, done, info = env.step(action)\n",
    "        \n",
    "        total_rewards += reward\n",
    "        \n",
    "        if done and iterations < 199:\n",
    "            reward = -300\n",
    "        \n",
    "        G = reward + gamma*np.max(model.predict(observation))\n",
    "        model.update(prev_observation, action, G)\n",
    "        \n",
    "        iterations += 1\n",
    "        \n",
    "    return total_rewards"
   ]
  },
  {
   "cell_type": "markdown",
   "metadata": {},
   "source": [
    "<h3>Plot the graph </h3>\n",
    "\n",
    "Now that we have our model agent pretty much finished, we are going to add a method for plotting out the running average. We want to see the average returns over 100 episodes as this is how OpenAi judges the efficiency and performance of your bot.\n"
   ]
  },
  {
   "cell_type": "code",
   "execution_count": 49,
   "metadata": {
    "collapsed": true
   },
   "outputs": [],
   "source": [
    "def plot_running_avg(total_rewards):\n",
    "    N = len(total_rewards)\n",
    "    running_avg = np.empty(N)\n",
    "    \n",
    "    for t in range(N):\n",
    "        running_avg[t] = total_rewards[max(0, t-100):(t+1)].mean()\n",
    "    plt.plot(running_avg)\n",
    "    plt.title(\"Running Average\")\n",
    "    plt.show()"
   ]
  },
  {
   "cell_type": "code",
   "execution_count": 53,
   "metadata": {},
   "outputs": [
    {
     "name": "stderr",
     "output_type": "stream",
     "text": [
      "[2017-10-02 16:05:48,209] Making new env: CartPole-v1\n"
     ]
    },
    {
     "name": "stdout",
     "output_type": "stream",
     "text": [
      "('episode:', 0, 'total reward:', 16.0, 'eps:', 1.0)\n",
      "('episode:', 100, 'total reward:', 14.0, 'eps:', 0.099503719020998915)\n",
      "('episode:', 200, 'total reward:', 29.0, 'eps:', 0.070534561585859828)\n",
      "('episode:', 300, 'total reward:', 51.0, 'eps:', 0.057639041770423498)\n",
      "('episode:', 400, 'total reward:', 50.0, 'eps:', 0.049937616943892232)\n",
      "('episode:', 500, 'total reward:', 122.0, 'eps:', 0.044676705160877031)\n",
      "('episode:', 600, 'total reward:', 113.0, 'eps:', 0.040790850822400207)\n",
      "('episode:', 700, 'total reward:', 54.0, 'eps:', 0.037769478730024897)\n",
      "('episode:', 800, 'total reward:', 99.0, 'eps:', 0.035333262666878668)\n",
      "('episode:', 900, 'total reward:', 202.0, 'eps:', 0.033314830232638482)\n",
      "('episode:', 1000, 'total reward:', 172.0, 'eps:', 0.031606977062050699)\n",
      "('episode:', 1100, 'total reward:', 78.0, 'eps:', 0.030137438733945612)\n",
      "('episode:', 1200, 'total reward:', 96.0, 'eps:', 0.028855492841238062)\n",
      "('episode:', 1300, 'total reward:', 120.0, 'eps:', 0.027724348650071385)\n",
      "('episode:', 1400, 'total reward:', 130.0, 'eps:', 0.02671658425726324)\n",
      "('episode:', 1500, 'total reward:', 228.0, 'eps:', 0.025811286645983367)\n",
      "('episode:', 1600, 'total reward:', 143.0, 'eps:', 0.02499219116020307)\n",
      "('episode:', 1700, 'total reward:', 252.0, 'eps:', 0.024246432248443597)\n",
      "('episode:', 1800, 'total reward:', 234.0, 'eps:', 0.023563681481313652)\n",
      "('episode:', 1900, 'total reward:', 77.0, 'eps:', 0.022935538512984369)\n",
      "('episode:', 2000, 'total reward:', 176.0, 'eps:', 0.022355091700494795)\n",
      "('episode:', 2100, 'total reward:', 214.0, 'eps:', 0.021816595214404266)\n",
      "('episode:', 2200, 'total reward:', 111.0, 'eps:', 0.021315227815974374)\n",
      "('episode:', 2300, 'total reward:', 396.0, 'eps:', 0.02084690996125416)\n",
      "('episode:', 2400, 'total reward:', 131.0, 'eps:', 0.020408163265306121)\n",
      "('episode:', 2500, 'total reward:', 168.0, 'eps:', 0.019996001199600141)\n",
      "('episode:', 2600, 'total reward:', 179.0, 'eps:', 0.019607843137254902)\n",
      "('episode:', 2700, 'total reward:', 105.0, 'eps:', 0.019241446072101123)\n",
      "('episode:', 2800, 'total reward:', 123.0, 'eps:', 0.018894849871330582)\n",
      "('episode:', 2900, 'total reward:', 98.0, 'eps:', 0.018566333001716968)\n",
      "('episode:', 3000, 'total reward:', 263.0, 'eps:', 0.018254376440922811)\n",
      "('episode:', 3100, 'total reward:', 126.0, 'eps:', 0.017957634043632188)\n",
      "('episode:', 3200, 'total reward:', 122.0, 'eps:', 0.017674908041006729)\n",
      "('episode:', 3300, 'total reward:', 279.0, 'eps:', 0.017405128654617661)\n",
      "('episode:', 3400, 'total reward:', 283.0, 'eps:', 0.017147337032429676)\n",
      "('episode:', 3500, 'total reward:', 480.0, 'eps:', 0.016900670885446459)\n",
      "('episode:', 3600, 'total reward:', 118.0, 'eps:', 0.016664352333993333)\n",
      "('episode:', 3700, 'total reward:', 279.0, 'eps:', 0.016437677572823703)\n",
      "('episode:', 3800, 'total reward:', 115.0, 'eps:', 0.016220008041881982)\n",
      "('episode:', 3900, 'total reward:', 143.0, 'eps:', 0.016010762850168871)\n",
      "('episode:', 4000, 'total reward:', 95.0, 'eps:', 0.015809412247806517)\n",
      "('episode:', 4100, 'total reward:', 500.0, 'eps:', 0.015615471979112765)\n",
      "('episode:', 4200, 'total reward:', 154.0, 'eps:', 0.015428498379527544)\n",
      "('episode:', 4300, 'total reward:', 233.0, 'eps:', 0.015248084103296531)\n",
      "('episode:', 4400, 'total reward:', 104.0, 'eps:', 0.015073854388204487)\n",
      "('episode:', 4500, 'total reward:', 167.0, 'eps:', 0.014905463779355262)\n",
      "('episode:', 4600, 'total reward:', 434.0, 'eps:', 0.014742593246782542)\n",
      "('episode:', 4700, 'total reward:', 239.0, 'eps:', 0.014584947642137372)\n",
      "('episode:', 4800, 'total reward:', 130.0, 'eps:', 0.014432253448298278)\n",
      "('episode:', 4900, 'total reward:', 124.0, 'eps:', 0.014284256782850143)\n",
      "('episode:', 5000, 'total reward:', 259.0, 'eps:', 0.014140721622265264)\n",
      "('episode:', 5100, 'total reward:', 109.0, 'eps:', 0.014001428218521149)\n",
      "('episode:', 5200, 'total reward:', 119.0, 'eps:', 0.013866171683985996)\n",
      "('episode:', 5300, 'total reward:', 416.0, 'eps:', 0.013734760723838819)\n",
      "('episode:', 5400, 'total reward:', 123.0, 'eps:', 0.013607016498184134)\n",
      "('episode:', 5500, 'total reward:', 194.0, 'eps:', 0.013482771598464758)\n",
      "('episode:', 5600, 'total reward:', 441.0, 'eps:', 0.013361869124847461)\n",
      "('episode:', 5700, 'total reward:', 105.0, 'eps:', 0.013244161853017133)\n",
      "('episode:', 5800, 'total reward:', 176.0, 'eps:', 0.013129511480316922)\n",
      "('episode:', 5900, 'total reward:', 227.0, 'eps:', 0.013017787942456283)\n",
      "('episode:', 6000, 'total reward:', 112.0, 'eps:', 0.012908868793110689)\n",
      "('episode:', 6100, 'total reward:', 99.0, 'eps:', 0.012802638639684321)\n",
      "('episode:', 6200, 'total reward:', 234.0, 'eps:', 0.012698988629324323)\n",
      "('episode:', 6300, 'total reward:', 95.0, 'eps:', 0.012597815979981676)\n",
      "('episode:', 6400, 'total reward:', 108.0, 'eps:', 0.01249902355192602)\n",
      "('episode:', 6500, 'total reward:', 175.0, 'eps:', 0.012402519455653739)\n",
      "('episode:', 6600, 'total reward:', 190.0, 'eps:', 0.01230821669259179)\n",
      "('episode:', 6700, 'total reward:', 126.0, 'eps:', 0.012216032825403858)\n",
      "('episode:', 6800, 'total reward:', 110.0, 'eps:', 0.01212588967505907)\n",
      "('episode:', 6900, 'total reward:', 441.0, 'eps:', 0.012037713042133099)\n",
      "('episode:', 7000, 'total reward:', 159.0, 'eps:', 0.011951432450083671)\n",
      "('episode:', 7100, 'total reward:', 414.0, 'eps:', 0.011866980908481739)\n",
      "('episode:', 7200, 'total reward:', 271.0, 'eps:', 0.01178429469439066)\n",
      "('episode:', 7300, 'total reward:', 289.0, 'eps:', 0.011703313150272007)\n",
      "('episode:', 7400, 'total reward:', 500.0, 'eps:', 0.011623978496961555)\n",
      "('episode:', 7500, 'total reward:', 334.0, 'eps:', 0.01154623566040508)\n",
      "('episode:', 7600, 'total reward:', 289.0, 'eps:', 0.011470032110973345)\n",
      "('episode:', 7700, 'total reward:', 500.0, 'eps:', 0.011395317714291038)\n",
      "('episode:', 7800, 'total reward:', 252.0, 'eps:', 0.011322044592617122)\n",
      "('episode:', 7900, 'total reward:', 299.0, 'eps:', 0.011250166995905777)\n",
      "('episode:', 8000, 'total reward:', 302.0, 'eps:', 0.011179641181758959)\n",
      "('episode:', 8100, 'total reward:', 118.0, 'eps:', 0.011110425303554916)\n",
      "('episode:', 8200, 'total reward:', 116.0, 'eps:', 0.011042479306102601)\n",
      "('episode:', 8300, 'total reward:', 146.0, 'eps:', 0.010975764828230913)\n",
      "('episode:', 8400, 'total reward:', 408.0, 'eps:', 0.010910245111774533)\n",
      "('episode:', 8500, 'total reward:', 330.0, 'eps:', 0.01084588491646583)\n",
      "('episode:', 8600, 'total reward:', 269.0, 'eps:', 0.010782650440285157)\n",
      "('episode:', 8700, 'total reward:', 146.0, 'eps:', 0.010720509244860595)\n",
      "('episode:', 8800, 'total reward:', 137.0, 'eps:', 0.010659430185543134)\n",
      "('episode:', 8900, 'total reward:', 290.0, 'eps:', 0.010599383345814889)\n",
      "('episode:', 9000, 'total reward:', 103.0, 'eps:', 0.010540339975716555)\n",
      "('episode:', 9100, 'total reward:', 123.0, 'eps:', 0.010482272434006255)\n",
      "('episode:', 9200, 'total reward:', 121.0, 'eps:', 0.010425154133785426)\n",
      "('episode:', 9300, 'total reward:', 235.0, 'eps:', 0.01036895949134883)\n",
      "('episode:', 9400, 'total reward:', 116.0, 'eps:', 0.010313663878035112)\n",
      "('episode:', 9500, 'total reward:', 323.0, 'eps:', 0.010259243574872122)\n",
      "('episode:', 9600, 'total reward:', 217.0, 'eps:', 0.010205675729827259)\n",
      "('episode:', 9700, 'total reward:', 463.0, 'eps:', 0.010152938317487875)\n",
      "('episode:', 9800, 'total reward:', 209.0, 'eps:', 0.010101010101010102)\n",
      "('episode:', 9900, 'total reward:', 403.0, 'eps:', 0.010049870596186849)\n",
      "('avg reward for last 100 episodes:', 234.40000000000001)\n",
      "('total steps:', 1939726.0)\n"
     ]
    },
    {
     "data": {
      "image/png": "[encoded data removed]",
      "text/plain": [
       "<matplotlib.figure.Figure at 0x10eccd0d0>"
      ]
     },
     "metadata": {},
     "output_type": "display_data"
    },
    {
     "data": {
      "image/png": "[encoded data removed]",
      "text/plain": [
       "<matplotlib.figure.Figure at 0x10f714dd0>"
      ]
     },
     "metadata": {},
     "output_type": "display_data"
    }
   ],
   "source": [
    "if __name__ == '__main__':\n",
    "  env = gym.make('CartPole-v1')\n",
    "  ft = FeatureTransformer()\n",
    "  model = Model(env, ft)\n",
    "  gamma = 0.9\n",
    "\n",
    "  if 'monitor' in sys.argv:\n",
    "    filename = os.path.basename(__file__).split('.')[0]\n",
    "    monitor_dir = './' + filename + '_' + str(datetime.now())\n",
    "    env = wrappers.Monitor(env, monitor_dir)\n",
    "\n",
    "  N = 10000\n",
    "  totalrewards = np.empty(N)\n",
    "  for n in range(N):\n",
    "    eps = 1.0/np.sqrt(n+1)\n",
    "    totalreward = play_one(model, eps, gamma)\n",
    "    totalrewards[n] = totalreward\n",
    "    if n % 100 == 0:\n",
    "      print(\"episode:\", n, \"total reward:\", totalreward, \"eps:\", eps)\n",
    "  print(\"avg reward for last 100 episodes:\", totalrewards[-100:].mean())\n",
    "  print(\"total steps:\", totalrewards.sum())\n",
    "\n",
    "  plt.plot(totalrewards)\n",
    "  plt.title(\"Rewards\")\n",
    "  plt.show()\n",
    "\n",
    "  plot_running_avg(totalrewards)"
   ]
  },
  {
   "cell_type": "markdown",
   "metadata": {
    "collapsed": true
   },
   "source": [
    "This example is based off the lessons provided by the Lazy Programmers course Advanced AI:Deep Reinforcement Learning. https://www.udemy.com/deep-reinforcement-learning-in-python/"
   ]
  },
  {
   "cell_type": "code",
   "execution_count": null,
   "metadata": {
    "collapsed": true
   },
   "outputs": [],
   "source": []
  },
  {
   "cell_type": "code",
   "execution_count": null,
   "metadata": {
    "collapsed": true
   },
   "outputs": [],
   "source": []
  },
  {
   "cell_type": "code",
   "execution_count": null,
   "metadata": {
    "collapsed": true
   },
   "outputs": [],
   "source": []
  }
 ],
 "metadata": {
  "kernelspec": {
   "display_name": "Python 2",
   "language": "python",
   "name": "python2"
  },
  "language_info": {
   "codemirror_mode": {
    "name": "ipython",
    "version": 2
   },
   "file_extension": ".py",
   "mimetype": "text/x-python",
   "name": "python",
   "nbconvert_exporter": "python",
   "pygments_lexer": "ipython2",
   "version": "2.7.13"
  }
 },
 "nbformat": 4,
 "nbformat_minor": 2
}
